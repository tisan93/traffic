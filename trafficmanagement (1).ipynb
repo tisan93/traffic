{
 "cells": [
  {
   "cell_type": "code",
   "execution_count": 2,
   "id": "0f549b0f-db9b-46e9-a3ee-d1f0e5af1126",
   "metadata": {},
   "outputs": [
    {
     "name": "stdout",
     "output_type": "stream",
     "text": [
      "Traffic light is GREEN for 30 seconds.\n",
      "Traffic light is RED for 30 seconds.\n",
      "Current traffic density: 20.\n",
      "High traffic density detected. Adjusting timings: Green = 45s, Red = 15s.\n",
      "Traffic light is GREEN for 45 seconds.\n",
      "Traffic light is RED for 15 seconds.\n",
      "Current traffic density: 11.\n",
      "High traffic density detected. Adjusting timings: Green = 45s, Red = 15s.\n",
      "Traffic light is GREEN for 45 seconds.\n",
      "Traffic light is RED for 15 seconds.\n",
      "Current traffic density: 14.\n",
      "High traffic density detected. Adjusting timings: Green = 45s, Red = 15s.\n",
      "Traffic light is GREEN for 45 seconds.\n",
      "Traffic light is RED for 15 seconds.\n",
      "Current traffic density: 1.\n",
      "Traffic density normal. Timings reset to: Green = 30s, Red = 30s.\n",
      "Traffic light is GREEN for 30 seconds.\n",
      "Traffic light is RED for 30 seconds.\n",
      "Current traffic density: 3.\n",
      "Traffic density normal. Timings reset to: Green = 30s, Red = 30s.\n"
     ]
    }
   ],
   "source": [
    "import random\n",
    "import time\n",
    "\n",
    "class TrafficManager:\n",
    "    def __init__(self):\n",
    "        self.green_time = 30  # Default green light duration in seconds\n",
    "        self.red_time = 30    # Default red light duration in seconds\n",
    "        self.density_threshold = 10  # Threshold for high traffic density\n",
    "        self.current_light = 'red'   # Current state of the traffic light\n",
    "        self.traffic_density = 0      # Current traffic density\n",
    "\n",
    "    def adjust_timings(self):\n",
    "        \"\"\"\n",
    "        Adjusts the timings of the traffic lights based on the current traffic density.\n",
    "        \"\"\"\n",
    "        if self.traffic_density > self.density_threshold:\n",
    "            self.green_time = 45  # Increase green light duration for high density\n",
    "            self.red_time = 15    # Decrease red light duration\n",
    "            print(f\"High traffic density detected. Adjusting timings: Green = {self.green_time}s, Red = {self.red_time}s.\")\n",
    "        else:\n",
    "            self.green_time = 30  # Reset to default timings\n",
    "            self.red_time = 30\n",
    "            print(f\"Traffic density normal. Timings reset to: Green = {self.green_time}s, Red = {self.red_time}s.\")\n",
    "\n",
    "    def simulate_traffic_flow(self):\n",
    "        \"\"\"\n",
    "        Simulates the traffic light operation based on current timings.\n",
    "        \"\"\"\n",
    "        for cycle in range(5):  # Simulate for 5 cycles\n",
    "            self.current_light = 'green'\n",
    "            print(f\"Traffic light is GREEN for {self.green_time} seconds.\")\n",
    "            time.sleep(self.green_time)  # Simulate green light duration\n",
    "            \n",
    "            self.current_light = 'red'\n",
    "            print(f\"Traffic light is RED for {self.red_time} seconds.\")\n",
    "            time.sleep(self.red_time)  # Simulate red light duration\n",
    "            \n",
    "            # Simulate traffic density change\n",
    "            self.traffic_density = random.randint(0, 20)  # Random density between 0 and 20\n",
    "            print(f\"Current traffic density: {self.traffic_density}.\")\n",
    "            self.adjust_timings()\n",
    "\n",
    "# Example usage\n",
    "if __name__ == \"__main__\":\n",
    "    traffic_manager = TrafficManager()\n",
    "    traffic_manager.simulate_traffic_flow()\n"
   ]
  },
  {
   "cell_type": "code",
   "execution_count": 12,
   "id": "d6dd30de-f190-461e-b477-6bcb28be6fa7",
   "metadata": {},
   "outputs": [
    {
     "name": "stdout",
     "output_type": "stream",
     "text": [
      "Requirement already satisfied: pandas in d:\\anaconda\\lib\\site-packages (2.2.2)\n",
      "Requirement already satisfied: scikit-learn in d:\\anaconda\\lib\\site-packages (1.4.2)\n",
      "Requirement already satisfied: numpy>=1.26.0 in d:\\anaconda\\lib\\site-packages (from pandas) (1.26.4)\n",
      "Requirement already satisfied: python-dateutil>=2.8.2 in d:\\anaconda\\lib\\site-packages (from pandas) (2.9.0.post0)\n",
      "Requirement already satisfied: pytz>=2020.1 in d:\\anaconda\\lib\\site-packages (from pandas) (2024.1)\n",
      "Requirement already satisfied: tzdata>=2022.7 in d:\\anaconda\\lib\\site-packages (from pandas) (2023.3)\n",
      "Requirement already satisfied: scipy>=1.6.0 in d:\\anaconda\\lib\\site-packages (from scikit-learn) (1.13.1)\n",
      "Requirement already satisfied: joblib>=1.2.0 in d:\\anaconda\\lib\\site-packages (from scikit-learn) (1.4.2)\n",
      "Requirement already satisfied: threadpoolctl>=2.0.0 in d:\\anaconda\\lib\\site-packages (from scikit-learn) (2.2.0)\n",
      "Requirement already satisfied: six>=1.5 in d:\\anaconda\\lib\\site-packages (from python-dateutil>=2.8.2->pandas) (1.16.0)\n",
      "Note: you may need to restart the kernel to use updated packages.\n"
     ]
    }
   ],
   "source": []
  },
  {
   "cell_type": "code",
   "execution_count": null,
   "id": "a90fcb8b-7e60-4fa8-8341-431fd7b2b0c5",
   "metadata": {},
   "outputs": [],
   "source": []
  }
 ],
 "metadata": {
  "kernelspec": {
   "display_name": "Python 3 (ipykernel)",
   "language": "python",
   "name": "python3"
  },
  "language_info": {
   "codemirror_mode": {
    "name": "ipython",
    "version": 3
   },
   "file_extension": ".py",
   "mimetype": "text/x-python",
   "name": "python",
   "nbconvert_exporter": "python",
   "pygments_lexer": "ipython3",
   "version": "3.12.4"
  }
 },
 "nbformat": 4,
 "nbformat_minor": 5
}
