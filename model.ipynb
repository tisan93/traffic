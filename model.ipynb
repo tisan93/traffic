{
 "cells": [
  {
   "cell_type": "code",
   "execution_count": 2,
   "metadata": {},
   "outputs": [],
   "source": [
    "import pandas as pd\n",
    "import os\n",
    "from sklearn.model_selection import train_test_split\n",
    "from sklearn.preprocessing import StandardScaler\n",
    "from sklearn.metrics import accuracy_score\n",
    "from sklearn.linear_model import LogisticRegression\n",
    "from sklearn.neighbors import KNeighborsClassifier\n",
    "from sklearn.ensemble import RandomForestClassifier"
   ]
  },
  {
   "cell_type": "code",
   "execution_count": 5,
   "metadata": {},
   "outputs": [
    {
     "ename": "NameError",
     "evalue": "name '_name_' is not defined",
     "output_type": "error",
     "traceback": [
      "\u001b[1;31m---------------------------------------------------------------------------\u001b[0m",
      "\u001b[1;31mNameError\u001b[0m                                 Traceback (most recent call last)",
      "Cell \u001b[1;32mIn[5], line 39\u001b[0m\n\u001b[0;32m     36\u001b[0m     \u001b[38;5;28;01mdef\u001b[39;00m \u001b[38;5;21mget_best_model\u001b[39m(\u001b[38;5;28mself\u001b[39m):\n\u001b[0;32m     37\u001b[0m         \u001b[38;5;28;01mreturn\u001b[39;00m \u001b[38;5;28mself\u001b[39m\u001b[38;5;241m.\u001b[39mbest_model, \u001b[38;5;28mself\u001b[39m\u001b[38;5;241m.\u001b[39mbest_accuracy\n\u001b[1;32m---> 39\u001b[0m \u001b[38;5;28;01mif\u001b[39;00m \u001b[43m_name_\u001b[49m \u001b[38;5;241m==\u001b[39m \u001b[38;5;124m\"\u001b[39m\u001b[38;5;124m_main_\u001b[39m\u001b[38;5;124m\"\u001b[39m:\n\u001b[0;32m     40\u001b[0m     predictor \u001b[38;5;241m=\u001b[39m TrafficFlowPredictor(\u001b[38;5;124m\"\u001b[39m\u001b[38;5;124mC:/Users/swast/OneDrive/Desktop/ms/traffic_data.csv\u001b[39m\u001b[38;5;124m\"\u001b[39m)\n\u001b[0;32m     41\u001b[0m     predictor\u001b[38;5;241m.\u001b[39mpreprocess_data()\n",
      "\u001b[1;31mNameError\u001b[0m: name '_name_' is not defined"
     ]
    }
   ],
   "source": [
    "class TrafficFlowPredictor:\n",
    "    def _init_(self, data_path):\n",
    "        self.data = pd.read_csv(data_path)\n",
    "        self.models = {\n",
    "            'Logistic Regression': LogisticRegression(),\n",
    "            'KNeighbors Classifier': KNeighborsClassifier(),\n",
    "            'Random Forest Classifier': RandomForestClassifier()\n",
    "        }\n",
    "        self.X = None\n",
    "        self.y = None\n",
    "        self.best_model = None\n",
    "        self.best_accuracy = 0\n",
    "\n",
    "    def preprocess_data(self):\n",
    "        self.X = self.data[['intersection_id', 'vehicle_count', 'light_timing']]\n",
    "        self.y = self.data['traffic_density']\n",
    "        \n",
    "        self.X = pd.get_dummies(self.X, columns=['intersection_id', 'light_timing'], drop_first=True)\n",
    "\n",
    "        scaler = StandardScaler()\n",
    "        self.X = scaler.fit_transform(self.X)\n",
    "\n",
    "    def train_and_evaluate(self):\n",
    "        X_train, X_test, y_train, y_test = train_test_split(self.X, self.y)\n",
    "\n",
    "        for model_name, model in self.models.items():\n",
    "            model.fit(X_train, y_train)\n",
    "            predictions = model.predict(X_test)\n",
    "            accuracy = accuracy_score(y_test, predictions)\n",
    "            print(f\"{model_name} Accuracy: {accuracy:.2f}\")\n",
    "\n",
    "            if accuracy > self.best_accuracy:\n",
    "                self.best_accuracy = accuracy\n",
    "                self.best_model = model_name\n",
    "\n",
    "    def get_best_model(self):\n",
    "        return self.best_model, self.best_accuracy\n",
    "\n",
    "if _name_ == \"_main_\":\n",
    "    predictor = TrafficFlowPredictor(\"C:/Users/swast/OneDrive/Desktop/ms/traffic_data.csv\")\n",
    "    predictor.preprocess_data()\n",
    "    predictor.train_and_evaluate()\n",
    "    best_model, best_accuracy = predictor.get_best_model()\n",
    "    print(f\"\\nBest Model: {best_model} with Accuracy: {best_accuracy:.2f}\")"
   ]
  },
  {
   "cell_type": "code",
   "execution_count": 13,
   "metadata": {},
   "outputs": [
    {
     "name": "stdout",
     "output_type": "stream",
     "text": [
      "Columns in the dataset: Index(['Intersection_ID', 'Time', 'Traffic_Density', 'Light_Timing',\n",
      "       'Vehicle_Count', 'Traffic_Flow'],\n",
      "      dtype='object')\n",
      "Logistic Regression Accuracy: 0.08\n",
      "KNeighbors Classifier Accuracy: 0.12\n",
      "Random Forest Classifier Accuracy: 0.23\n",
      "\n",
      "Best Model: Random Forest Classifier with Accuracy: 0.23\n"
     ]
    }
   ],
   "source": [
    "import pandas as pd\n",
    "from sklearn.model_selection import train_test_split\n",
    "from sklearn.linear_model import LogisticRegression\n",
    "from sklearn.neighbors import KNeighborsClassifier\n",
    "from sklearn.ensemble import RandomForestClassifier\n",
    "from sklearn.preprocessing import StandardScaler\n",
    "from sklearn.metrics import accuracy_score\n",
    "\n",
    "class TrafficFlowPredictor:\n",
    "    def __init__(self, data_path):\n",
    "        self.data = pd.read_csv(data_path)\n",
    "        print(\"Columns in the dataset:\", self.data.columns)  # Check column names\n",
    "        self.models = {\n",
    "            'Logistic Regression': LogisticRegression(),\n",
    "            'KNeighbors Classifier': KNeighborsClassifier(),\n",
    "            'Random Forest Classifier': RandomForestClassifier()\n",
    "        }\n",
    "        self.X = None\n",
    "        self.y = None\n",
    "        self.best_model = None\n",
    "        self.best_accuracy = 0\n",
    "\n",
    "    def preprocess_data(self):\n",
    "        self.X = self.data[['Intersection_ID', 'Vehicle_Count', 'Light_Timing']]\n",
    "        self.y = self.data['Traffic_Density']  # Update this based on actual column name\n",
    "        \n",
    "        # Convert categorical variables to dummy variables\n",
    "        self.X = pd.get_dummies(self.X, columns=['Intersection_ID', 'Light_Timing'], drop_first=True)\n",
    "\n",
    "        # Scale the features\n",
    "        scaler = StandardScaler()\n",
    "        self.X = scaler.fit_transform(self.X)\n",
    "\n",
    "    def train_and_evaluate(self):\n",
    "        X_train, X_test, y_train, y_test = train_test_split(self.X, self.y, test_size=0.2, random_state=42)\n",
    "\n",
    "        for model_name, model in self.models.items():\n",
    "            model.fit(X_train, y_train)\n",
    "            predictions = model.predict(X_test)\n",
    "            accuracy = accuracy_score(y_test, predictions)\n",
    "            print(f\"{model_name} Accuracy: {accuracy:.2f}\")\n",
    "\n",
    "            if accuracy > self.best_accuracy:\n",
    "                self.best_accuracy = accuracy\n",
    "                self.best_model = model_name\n",
    "\n",
    "    def get_best_model(self):\n",
    "        return self.best_model, self.best_accuracy\n",
    "\n",
    "if __name__ == \"__main__\":\n",
    "    predictor = TrafficFlowPredictor(\"C:/Users/swast/OneDrive/Desktop/ms/traffic_data.csv\")\n",
    "    predictor.preprocess_data()\n",
    "    predictor.train_and_evaluate()\n",
    "    best_model, best_accuracy = predictor.get_best_model()\n",
    "    print(f\"\\nBest Model: {best_model} with Accuracy: {best_accuracy:.2f}\")\n"
   ]
  }
 ],
 "metadata": {
  "kernelspec": {
   "display_name": "Python 3",
   "language": "python",
   "name": "python3"
  },
  "language_info": {
   "codemirror_mode": {
    "name": "ipython",
    "version": 3
   },
   "file_extension": ".py",
   "mimetype": "text/x-python",
   "name": "python",
   "nbconvert_exporter": "python",
   "pygments_lexer": "ipython3",
   "version": "3.11.4"
  }
 },
 "nbformat": 4,
 "nbformat_minor": 2
}
